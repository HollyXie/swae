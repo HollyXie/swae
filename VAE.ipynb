{
 "cells": [
  {
   "cell_type": "code",
   "execution_count": 95,
   "metadata": {},
   "outputs": [],
   "source": [
    "import sys\n",
    "import warnings\n",
    "warnings.filterwarnings(\"ignore\")\n",
    "sys.path.append('/Users/hx/Documents/GitHub/model-catalyst/research/vos/')\n",
    "import numpy as np\n",
    "\n",
    "import keras.utils\n",
    "from keras.layers import Input,Dense, Flatten\n",
    "from keras.models import load_model, Model, Sequential, save_model\n",
    "from keras.layers import Conv2D, UpSampling2D, AveragePooling2D, Concatenate, LeakyReLU,Reshape,concatenate\n",
    "from keras.datasets import mnist\n",
    "from keras import backend as K\n",
    "import tensorflow as tf\n",
    "import matplotlib.pyplot as plt\n",
    "from IPython import display\n",
    "import timed"
   ]
  },
  {
   "cell_type": "code",
   "execution_count": 96,
   "metadata": {},
   "outputs": [],
   "source": [
    "# K.tensorflow_backend._get_available_gpus()"
   ]
  },
  {
   "cell_type": "markdown",
   "metadata": {},
   "source": [
    "### helper functions"
   ]
  },
  {
   "cell_type": "code",
   "execution_count": 97,
   "metadata": {},
   "outputs": [],
   "source": [
    "def generateTheta(L,endim):\n",
    "    # This function generates L random samples from the unit `ndim'-u\n",
    "    theta=[w/np.sqrt((w**2).sum()) for w in np.random.normal(size=(L,endim))]\n",
    "    return np.asarray(theta) # shape: (L, endim)\n",
    "\n",
    "# def generateZ():\n",
    "#     # This function generates 2D samples from a `circle' distribution in \n",
    "#     # a 2-dimensional space\n",
    "#     r=np.random.uniform(size=())\n",
    "#     theta=2*np.pi*np.random.uniform(size=())\n",
    "#     x=r*np.cos(theta)\n",
    "#     y=r*np.sin(theta)\n",
    "#     z_=np.array([x,y]).T\n",
    "#     return z_ #shape: (2,)\n",
    "\n",
    "def generateZ(endim):\n",
    "    z=np.random.normal(0,1,size=(endim))\n",
    "    return z #shape:(endim,)\n",
    "    \n",
    "def generateZ_majority(endim):\n",
    "    # For majority class samples i.e. non-zero digits\n",
    "    # This function generates samples from a uniform distribution in \n",
    "    # the `endim'-dimensional space\n",
    "    z=2*(np.random.uniform(size=(endim))-0.5)\n",
    "    return z #shape:(endim,)\n",
    "\n",
    "\n",
    "def genZ(endim,y,y_0=0):\n",
    "    #default 0 as the minority class\n",
    "    if y==y_0:\n",
    "        return generateZ(endim)\n",
    "    else:\n",
    "        return generateZ_majority(endim)\n",
    "    \n",
    "def stitchImages(I,axis=0):\n",
    "    n,N,M,K=I.shape\n",
    "    if axis==0:\n",
    "        img=np.zeros((N*n,M,K))\n",
    "        for i in range(n):\n",
    "            img[i*N:(i+1)*N,:,:]=I[i,:,:,:]\n",
    "    else:\n",
    "        img=np.zeros((N,M*n,K))\n",
    "        for i in range(n):\n",
    "            img[:,i*M:(i+1)*M,:]=I[i,:,:,:]\n",
    "    return img"
   ]
  },
  {
   "cell_type": "code",
   "execution_count": null,
   "metadata": {},
   "outputs": [],
   "source": []
  },
  {
   "cell_type": "markdown",
   "metadata": {},
   "source": [
    "### load data"
   ]
  },
  {
   "cell_type": "code",
   "execution_count": 98,
   "metadata": {},
   "outputs": [],
   "source": [
    "(x_train,y_train),(x_test,y_test)=mnist.load_data()\n",
    "\n",
    "#TODO: delete\n",
    "x_train = x_train[:100]\n",
    "y_train = y_train[:100]\n",
    "x_test = x_test[:100]\n",
    "y_test = y_test[:100]\n",
    "\n",
    "x_train=np.expand_dims(x_train.astype('float32')/255.,3)\n",
    "x_test=np.expand_dims(x_test.astype('float32')/255.,3)"
   ]
  },
  {
   "cell_type": "code",
   "execution_count": 99,
   "metadata": {},
   "outputs": [
    {
     "data": {
      "text/plain": [
       "(array([0, 1, 2, 3, 4, 5, 6, 7, 8, 9], dtype=uint8),\n",
       " array([13, 14,  6, 11, 11,  5, 11, 10,  8, 11]))"
      ]
     },
     "execution_count": 99,
     "metadata": {},
     "output_type": "execute_result"
    }
   ],
   "source": [
    "np.unique(y_train, return_counts=True)"
   ]
  },
  {
   "cell_type": "code",
   "execution_count": 100,
   "metadata": {},
   "outputs": [
    {
     "data": {
      "text/plain": [
       "(100, 28, 28, 1)"
      ]
     },
     "execution_count": 100,
     "metadata": {},
     "output_type": "execute_result"
    }
   ],
   "source": [
    "x_train.shape # 60000 pictures; each pic is 28*28*1"
   ]
  },
  {
   "cell_type": "code",
   "execution_count": 101,
   "metadata": {},
   "outputs": [
    {
     "data": {
      "image/png": "[encoded data removed]",
      "text/plain": [
       "<matplotlib.figure.Figure at 0xb2c83c828>"
      ]
     },
     "metadata": {},
     "output_type": "display_data"
    }
   ],
   "source": [
    "plt.imshow(np.squeeze(x_train[0,...]))\n",
    "plt.show()"
   ]
  },
  {
   "cell_type": "markdown",
   "metadata": {},
   "source": [
    "### parameters defined here"
   ]
  },
  {
   "cell_type": "code",
   "execution_count": 102,
   "metadata": {},
   "outputs": [],
   "source": [
    "img=Input((28,28,1)) #Input image \n",
    "y_img=Input((1,)) # Input image label\n",
    "interdim=128 # This is the dimension of intermediate latent variable \n",
    "             #(after convolution and before embedding)\n",
    "\n",
    "endim=20 # Dimension of the embedding space\n",
    "embedd=Input((endim,)) #Keras input to Decoder\n",
    "depth=16 # This is a design parameter and in fact it is not the depth!\n",
    "L=50 # Number of random projections\n",
    "batchsize=5 #TODO: change"
   ]
  },
  {
   "cell_type": "code",
   "execution_count": null,
   "metadata": {},
   "outputs": [],
   "source": []
  },
  {
   "cell_type": "markdown",
   "metadata": {},
   "source": [
    "### Encoder"
   ]
  },
  {
   "cell_type": "code",
   "execution_count": null,
   "metadata": {},
   "outputs": [],
   "source": []
  },
  {
   "cell_type": "code",
   "execution_count": 103,
   "metadata": {},
   "outputs": [],
   "source": [
    "x=Conv2D(filters=depth*1, kernel_size=(3, 3), padding='same')(img)\n",
    "x=LeakyReLU(alpha=0.2)(x)\n",
    "# x=BatchNormalization(momentum=0.8)(x)\n",
    "x=Conv2D(depth*1, (3, 3), padding='same')(x)\n",
    "x=LeakyReLU(alpha=0.2)(x)\n",
    "# x=BatchNormalization(momentum=0.8)(x)\n",
    "x=AveragePooling2D((2, 2), padding='same')(x)\n",
    "x=Conv2D(depth*2, (3, 3), padding='same')(x)\n",
    "x=LeakyReLU(alpha=0.2)(x)\n",
    "# x=BatchNormalization(momentum=0.8)(x)\n",
    "x=Conv2D(depth*2, (3, 3), padding='same')(x)\n",
    "x=LeakyReLU(alpha=0.2)(x)\n",
    "# x=BatchNormalization(momentum=0.8)(x)\n",
    "x=AveragePooling2D((2, 2), padding='same')(x)\n",
    "x=Conv2D(depth*4, (3, 3), padding='same')(x)\n",
    "x=LeakyReLU(alpha=0.2)(x)\n",
    "# x=BatchNormalization(momentum=0.8)(x)\n",
    "x=Conv2D(depth*4, (3, 3), padding='same')(x)\n",
    "x=LeakyReLU(alpha=0.2)(x)\n",
    "# x=BatchNormalization(momentum=0.8)(x)\n",
    "x=AveragePooling2D((2, 2), padding='same')(x)\n",
    "x=Flatten()(x)\n",
    "x=concatenate([x, y_img],axis=1) \n",
    "x=Dense(interdim,activation='relu')(x)\n",
    "encoded=Dense(endim)(x)\n",
    "encoder=Model(inputs=[img, y_img],outputs=[encoded])\n",
    "# encoder.summary()"
   ]
  },
  {
   "cell_type": "markdown",
   "metadata": {},
   "source": [
    "## Decoder"
   ]
  },
  {
   "cell_type": "code",
   "execution_count": 104,
   "metadata": {},
   "outputs": [],
   "source": [
    "x=Dense(interdim)(embedd)\n",
    "x=Dense(depth*64,activation='relu')(x)\n",
    "# x=BatchNormalization(momentum=0.8)(x)\n",
    "x=Reshape((4,4,4*depth))(x)\n",
    "x=UpSampling2D((2, 2))(x)\n",
    "x=Conv2D(depth*4, (3, 3), padding='same')(x)\n",
    "x=LeakyReLU(alpha=0.2)(x)\n",
    "# x=BatchNormalization(momentum=0.8)(x)\n",
    "x=Conv2D(depth*4, (3, 3), padding='same')(x)\n",
    "x=LeakyReLU(alpha=0.2)(x)\n",
    "x=UpSampling2D((2, 2))(x)\n",
    "x=Conv2D(depth*4, (3, 3), padding='valid')(x)\n",
    "x=LeakyReLU(alpha=0.2)(x)\n",
    "# x=BatchNormalization(momentum=0.8)(x)\n",
    "x=Conv2D(depth*4, (3, 3), padding='same')(x)\n",
    "x=LeakyReLU(alpha=0.2)(x)\n",
    "x=UpSampling2D((2, 2))(x)\n",
    "x=Conv2D(depth*2, (3, 3), padding='same')(x)\n",
    "x=LeakyReLU(alpha=0.2)(x)\n",
    "# x=BatchNormalization(momentum=0.8)(x)\n",
    "x=Conv2D(depth*2, (3, 3), padding='same')(x)\n",
    "x=LeakyReLU(alpha=0.2)(x)\n",
    "# x=BatchNormalization(momentum=0.8)(x)\n",
    "# x=BatchNormalization(momentum=0.8)(x)\n",
    "decoded=Conv2D(1, (3, 3), padding='same',activation='sigmoid')(x)\n",
    "\n",
    "decoder=Model(inputs=[embedd, y_img],outputs=[decoded])\n",
    "# decoder.summary()"
   ]
  },
  {
   "cell_type": "code",
   "execution_count": 105,
   "metadata": {},
   "outputs": [],
   "source": [
    "# Generate the autoencoder by combining encoder and decoder\n",
    "aencoded=encoder([img,y_img])\n",
    "ae=decoder([aencoded, y_img])\n",
    "autoencoder=Model(inputs=[img,y_img],outputs=[ae])\n",
    "# autoencoder.summary()"
   ]
  },
  {
   "cell_type": "code",
   "execution_count": 106,
   "metadata": {},
   "outputs": [],
   "source": [
    "theta=K.variable(np.zeros(shape=(L,endim))) #placeholder for theta\n",
    "z=K.variable(np.zeros(shape=(batchsize,endim))) #placeholder for z\n",
    "# Let projae be the projection of the encoded samples\n",
    "projae=K.dot(aencoded,K.transpose(theta))\n",
    "# Let projz be the projection of the $q_Z$ samples\n",
    "projz=K.dot(z,K.transpose(theta))\n",
    "# Calculate the Sliced Wasserstein distance by sorting \n",
    "# the projections and calculating the L2 distance between\n",
    "W2=(tf.nn.top_k(tf.transpose(projae),k=batchsize).values-tf.nn.top_k(tf.transpose(projz),k=batchsize).values)**2\n",
    "\n",
    "w2weight=K.variable(10.0)\n",
    "alpha_y=K.variable(1.0)\n",
    "crossEntropyLoss=(1.0)*K.mean(K.binary_crossentropy(K.flatten(img),K.flatten(ae)))\n",
    "L1Loss=(1.0)*K.mean(K.abs(K.flatten(img)-K.flatten(ae)))\n",
    "W2Loss=w2weight*K.mean(W2)\n",
    "# I have a combination of L1 and Cross-Entropy loss for the first term and then \n",
    "# W2 for the second terms\n",
    "vae_Loss=(L1Loss+crossEntropyLoss)*alpha_y+W2Loss\n",
    "autoencoder.add_loss(vae_Loss) # Add the custom loss to the model\n",
    "#Compile the model\n",
    "autoencoder.compile(optimizer='rmsprop')"
   ]
  },
  {
   "cell_type": "code",
   "execution_count": 107,
   "metadata": {},
   "outputs": [],
   "source": [
    "# def conv_cond_concat(x, y):\n",
    "#     \"\"\"Concatenate conditioning vector on feature map axis.\"\"\"\n",
    "#     x_shapes = x.get_shape()\n",
    "#     y_shapes = y.get_shape()\n",
    "#     return concat([x, y*tf.ones([x_shapes[0], x_shapes[1], x_shapes[2], y_shapes[3]])], 3)"
   ]
  },
  {
   "cell_type": "code",
   "execution_count": 108,
   "metadata": {},
   "outputs": [
    {
     "data": {
      "image/png": "[encoded data removed]",
      "text/plain": [
       "<matplotlib.figure.Figure at 0xb2b824eb8>"
      ]
     },
     "metadata": {},
     "output_type": "display_data"
    }
   ],
   "source": [
    "loss=[]\n",
    "fig1=plt.figure()\n",
    "for epoch in range(10):\n",
    "    print(\"epoch:\", epoch)\n",
    "    ind=np.random.permutation(x_train.shape[0])    \n",
    "    if epoch>10:\n",
    "        K.set_value(w2weight,1.1*K.eval(w2weight))\n",
    "    for i in range(int(x_train.shape[0]/batchsize)):\n",
    "        Xtr=x_train[ind[i*batchsize:(i+1)*batchsize],...]\n",
    "        Ytr=y_train[ind[i*batchsize:(i+1)*batchsize],...]\n",
    "        theta_=generateTheta(L,endim)\n",
    "        z_=np.array([genZ(endim, yi) for yi in Ytr])\n",
    "        K.set_value(z,z_)\n",
    "        K.set_value(theta,theta_)        \n",
    "        loss.append(autoencoder.train_on_batch(x=[Xtr,Ytr],y=None))        \n",
    "    plt.plot(np.asarray(loss))\n",
    "    display.clear_output(wait=True)\n",
    "    display.display(plt.gcf())"
   ]
  },
  {
   "cell_type": "code",
   "execution_count": 109,
   "metadata": {},
   "outputs": [],
   "source": [
    "# for zero digits we use generateZ(endim)\n",
    "# only sample from zero y\n",
    "y_train0 = y_train[np.where((y_train == 0))]\n",
    "en=np.array([genZ(endim, yi) for yi in y_train0])\n",
    "dec=decoder.predict([en, y_train0])"
   ]
  },
  {
   "cell_type": "code",
   "execution_count": 111,
   "metadata": {},
   "outputs": [
    {
     "data": {
      "image/png": "[encoded data removed]",
      "text/plain": [
       "<matplotlib.figure.Figure at 0xb2c872470>"
      ]
     },
     "metadata": {},
     "output_type": "display_data"
    }
   ],
   "source": [
    "plt.imshow(np.squeeze(dec[4,...]))\n",
    "plt.show()"
   ]
  },
  {
   "cell_type": "code",
   "execution_count": 75,
   "metadata": {},
   "outputs": [],
   "source": [
    "newy = np.concatenate((np.zeros(13), y_train), axis=0)"
   ]
  },
  {
   "cell_type": "code",
   "execution_count": 76,
   "metadata": {},
   "outputs": [],
   "source": [
    "newx = np.concatenate((dec.reshape(13,784), x_train.reshape(100, 784)), axis=0)"
   ]
  },
  {
   "cell_type": "code",
   "execution_count": 78,
   "metadata": {},
   "outputs": [],
   "source": [
    "from sklearn.ensemble import RandomForestClassifier\n",
    "from sklearn.metrics import roc_auc_score, average_precision_score, f1_score, precision_score, recall_score, precision_recall_fscore_support\n",
    "rf_clf = RandomForestClassifier(\n",
    "        random_state = 2019,\n",
    "        n_jobs = -1\n",
    "        )\n",
    "model = rf_clf.fit(newx, np.array(newy.tolist()))"
   ]
  },
  {
   "cell_type": "code",
   "execution_count": 80,
   "metadata": {},
   "outputs": [
    {
     "name": "stdout",
     "output_type": "stream",
     "text": [
      "[0.875      0.92857143 0.25       0.63636364 0.85714286 0.\n",
      " 0.6        0.8        0.         0.36363636]\n",
      "[0.58333333 0.86666667 0.4        0.7        0.52173913 0.\n",
      " 0.6        0.92307692 0.         0.57142857]\n",
      "[0.7        0.89655172 0.30769231 0.66666667 0.64864865 0.\n",
      " 0.6        0.85714286 0.         0.44444444]\n"
     ]
    }
   ],
   "source": [
    "y_pred = model.predict(x_test.reshape(100,784))\n",
    "precision, recall, f1, support = \\\n",
    "            precision_recall_fscore_support(y_true=y_test, y_pred=y_pred, beta=1, average=None)\n",
    "print(recall)\n",
    "print(precision)\n",
    "print(f1)"
   ]
  },
  {
   "cell_type": "code",
   "execution_count": null,
   "metadata": {},
   "outputs": [],
   "source": []
  },
  {
   "cell_type": "code",
   "execution_count": null,
   "metadata": {},
   "outputs": [],
   "source": []
  },
  {
   "cell_type": "code",
   "execution_count": null,
   "metadata": {},
   "outputs": [],
   "source": []
  },
  {
   "cell_type": "markdown",
   "metadata": {},
   "source": [
    "### Encode and decode Xtrain"
   ]
  },
  {
   "cell_type": "code",
   "execution_count": 14,
   "metadata": {},
   "outputs": [],
   "source": [
    "en=encoder.predict([x_train, y_train])# Encode the images\n",
    "dec=decoder.predict([en,y_train]) # Decode the encodings"
   ]
  },
  {
   "cell_type": "code",
   "execution_count": 16,
   "metadata": {},
   "outputs": [
    {
     "data": {
      "text/plain": [
       "(100, 20)"
      ]
     },
     "execution_count": 16,
     "metadata": {},
     "output_type": "execute_result"
    }
   ],
   "source": [
    "en.shape"
   ]
  },
  {
   "cell_type": "code",
   "execution_count": null,
   "metadata": {},
   "outputs": [],
   "source": []
  },
  {
   "cell_type": "markdown",
   "metadata": {},
   "source": [
    "### Define the SWAE loss"
   ]
  },
  {
   "cell_type": "code",
   "execution_count": null,
   "metadata": {},
   "outputs": [],
   "source": [
    "# swae_loss(1.0)"
   ]
  },
  {
   "cell_type": "code",
   "execution_count": null,
   "metadata": {},
   "outputs": [],
   "source": [
    "#shape of W2: (L, batchsize)"
   ]
  },
  {
   "cell_type": "markdown",
   "metadata": {},
   "source": [
    "## Train"
   ]
  },
  {
   "cell_type": "code",
   "execution_count": null,
   "metadata": {},
   "outputs": [],
   "source": [
    "# save_model(encoder,filepath='/Users/hx/Documents/test/WOS/MNIST_encoder.h5')\n",
    "# save_model(decoder,filepath='/Users/hx/Documents/test/WOS/MNIST_decoder.h5')\n",
    "# save_model(autoencoder,filepath='/Users/hx/Documents/test/WOS/MNIST_autoencoder.h5')"
   ]
  },
  {
   "cell_type": "code",
   "execution_count": null,
   "metadata": {},
   "outputs": [],
   "source": [
    "#### Testing on TESTING DATA ZERO DIGITS ##################\n",
    "# Test autoencoder\n",
    "en=encoder.predict([x_test, y_test])# Encode the images\n",
    "dec=decoder.predict([en,y_test]) # Decode the encodings\n",
    "\n",
    "# select all zero digits from the training dataset\n",
    "test_filter = np.where((y_test == 0))\n",
    "x_test0, y_test0, dec_0 = x_test[test_filter], y_test[test_filter], dec[test_filter]\n",
    "# Sanity check\n",
    "# considering increase endim to get better reconstructions\n",
    "fig, [ax1,ax2]=plt.subplots(2,1,figsize=(10,5))\n",
    "# examine the first 10 imgs\n",
    "I_temp=(stitchImages(x_test0[:15],1)*255.0).astype('uint8')\n",
    "Idec_temp=(stitchImages(dec_0[:15],1)*255.0).astype('uint8')\n",
    "ax1.imshow(np.squeeze(I_temp));\n",
    "ax1.set_xticks([])\n",
    "ax1.set_yticks([])\n",
    "ax2.imshow(np.squeeze(Idec_temp));\n",
    "ax2.set_xticks([])\n",
    "ax2.set_yticks([])\n",
    "plt.show()"
   ]
  },
  {
   "cell_type": "code",
   "execution_count": null,
   "metadata": {},
   "outputs": [],
   "source": []
  },
  {
   "cell_type": "code",
   "execution_count": null,
   "metadata": {},
   "outputs": [],
   "source": []
  },
  {
   "cell_type": "code",
   "execution_count": null,
   "metadata": {},
   "outputs": [],
   "source": []
  },
  {
   "cell_type": "code",
   "execution_count": null,
   "metadata": {},
   "outputs": [],
   "source": []
  },
  {
   "cell_type": "code",
   "execution_count": null,
   "metadata": {},
   "outputs": [],
   "source": [
    "# select all zero digits from the training dataset\n",
    "train_filter = np.where((y_train == 0))\n",
    "x_train0, y_train0, dec_0 = x_train[train_filter], y_train[train_filter], dec[train_filter]"
   ]
  },
  {
   "cell_type": "code",
   "execution_count": null,
   "metadata": {},
   "outputs": [],
   "source": [
    "# Sanity check\n",
    "# considering increase endim to get better reconstructions\n",
    "fig, [ax1,ax2]=plt.subplots(2,1,figsize=(10,5))\n",
    "# examine the first 10 imgs\n",
    "I_temp=(stitchImages(x_train0[:15],1)*255.0).astype('uint8')\n",
    "Idec_temp=(stitchImages(dec_0[:15],1)*255.0).astype('uint8')\n",
    "ax1.imshow(np.squeeze(I_temp));\n",
    "ax1.set_xticks([])\n",
    "ax1.set_yticks([])\n",
    "ax2.imshow(np.squeeze(Idec_temp));\n",
    "ax2.set_xticks([])\n",
    "ax2.set_yticks([])\n",
    "plt.show()"
   ]
  },
  {
   "cell_type": "code",
   "execution_count": null,
   "metadata": {},
   "outputs": [],
   "source": [
    "s3_client.write_image(plt, 'holly/zeros.png')"
   ]
  },
  {
   "cell_type": "code",
   "execution_count": null,
   "metadata": {},
   "outputs": [],
   "source": [
    "Nsample = 25\n",
    "randomSamples=generateZ(Nsample**2)\n",
    "print(randomSamples.shape)\n",
    "some_y = np.repeat(7, Nsample**2) # digit 7\n",
    "randomdecodeimg=np.squeeze(decoder.predict([randomSamples, some_y]))\n",
    "print(randomdecodeimg.shape)"
   ]
  },
  {
   "cell_type": "code",
   "execution_count": null,
   "metadata": {},
   "outputs": [],
   "source": [
    "imgRandom=np.zeros((Nsample*28,Nsample*28))\n",
    "count=0\n",
    "for i in range(Nsample):\n",
    "    for j in range(Nsample):        \n",
    "        imgRandom[i*28:(i+1)*28,j*28:(j+1)*28]=randomdecodeimg[count,...]\n",
    "        count+=1"
   ]
  },
  {
   "cell_type": "code",
   "execution_count": null,
   "metadata": {},
   "outputs": [],
   "source": [
    "fig=plt.figure(figsize=(10,10))\n",
    "plt.imshow(imgRandom,cmap='gray')\n",
    "plt.show()"
   ]
  },
  {
   "cell_type": "markdown",
   "metadata": {},
   "source": [
    "## S3"
   ]
  },
  {
   "cell_type": "code",
   "execution_count": null,
   "metadata": {},
   "outputs": [],
   "source": [
    "import sys\n",
    "sys.path.append('/home/ubuntu/holly/vos/')"
   ]
  },
  {
   "cell_type": "code",
   "execution_count": null,
   "metadata": {},
   "outputs": [],
   "source": [
    "from awsHelper.s3client import S3Client\n",
    "s3_client = S3Client(bucket = 'integrate-ai-research-staging')\n",
    "s3_client.write_image(plt, 'holly/temp.png')"
   ]
  },
  {
   "cell_type": "code",
   "execution_count": null,
   "metadata": {},
   "outputs": [],
   "source": []
  }
 ],
 "metadata": {
  "kernelspec": {
   "display_name": "Python 3",
   "language": "python",
   "name": "python3"
  },
  "language_info": {
   "codemirror_mode": {
    "name": "ipython",
    "version": 3
   },
   "file_extension": ".py",
   "mimetype": "text/x-python",
   "name": "python",
   "nbconvert_exporter": "python",
   "pygments_lexer": "ipython3",
   "version": "3.6.7"
  }
 },
 "nbformat": 4,
 "nbformat_minor": 2
}
